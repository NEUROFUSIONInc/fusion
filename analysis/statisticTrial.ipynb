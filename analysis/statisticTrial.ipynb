{
 "cells": [
  {
   "cell_type": "code",
   "execution_count": 25,
   "metadata": {},
   "outputs": [
    {
     "name": "stdout",
     "output_type": "stream",
     "text": [
      "1674926196 Meta available but no associated recordings\n"
     ]
    }
   ],
   "source": [
    "import pandas as pd\n",
    "import eeg\n",
    "import datetime\n",
    "import scipy.fftpack\n",
    "import numpy as np\n",
    "import matplotlib.pyplot as plt\n",
    "\n",
    "\n",
    "files = eeg.extractBundledEEG(\"../../scripts/data/\")\n",
    "files.addMeta(\"../../scripts/data/eeg-restingstate/events.csv\",\"timeofday\")\n",
    "files.prune()\n",
    "# files.mergeTagsWithRegex(\"[cC]lose\",\"Eyes Closed\")\n",
    "files.categories\n",
    "\n",
    "dataAgg = dict()\n",
    "\n",
    "for x in [\"morning\",\"evening\"]:\n",
    "    for y in files.extractByTags(x):\n",
    "        if x not in dataAgg: dataAgg[x] = {}\n",
    "        dataAgg[x][y] = eeg.load_session(files.extractById(y))[\"avg_power_by_band\"]"
   ]
  },
  {
   "attachments": {},
   "cell_type": "markdown",
   "metadata": {},
   "source": [
    "Simple Aggregated Trials"
   ]
  },
  {
   "cell_type": "code",
   "execution_count": 28,
   "metadata": {},
   "outputs": [
    {
     "data": {
      "text/plain": [
       "2.636825054280294"
      ]
     },
     "execution_count": 28,
     "metadata": {},
     "output_type": "execute_result"
    }
   ],
   "source": [
    "morning = pd.DataFrame.from_dict(dataAgg[\"morning\"])\n",
    "morning[\"1674239692\"].std()"
   ]
  }
 ],
 "metadata": {
  "kernelspec": {
   "display_name": "Python 3",
   "language": "python",
   "name": "python3"
  },
  "language_info": {
   "name": "python",
   "version": "3.11.2"
  },
  "orig_nbformat": 4
 },
 "nbformat": 4,
 "nbformat_minor": 2
}
