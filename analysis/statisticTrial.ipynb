{
 "cells": [
  {
   "cell_type": "code",
   "execution_count": 25,
   "metadata": {},
   "outputs": [
    {
     "name": "stdout",
     "output_type": "stream",
     "text": [
      "1674926196 Meta available but no associated recordings\n"
     ]
    }
   ],
   "source": [
    "import pandas as pd\n",
    "import eeg\n",
    "import datetime\n",
    "import scipy.fftpack\n",
    "import numpy as np\n",
    "import matplotlib.pyplot as plt\n",
    "\n",
    "\n",
    "files = eeg.extractBundledEEG(\"../../scripts/data/\")\n",
    "files.addMeta(\"../../scripts/data/eeg-restingstate/events.csv\",\"timeofday\")\n",
    "files.prune()\n",
    "# files.mergeTagsWithRegex(\"[cC]lose\",\"Eyes Closed\")\n",
    "files.categories\n",
    "\n",
    "dataAgg = dict()\n",
    "\n",
    "for x in [\"morning\",\"evening\"]:\n",
    "    for y in files.extractByTags(x):\n",
    "        if x not in dataAgg: dataAgg[x] = {}\n",
    "        dataAgg[x][y] = eeg.load_session(files.extractById(y))[\"avg_power_by_band\"]"
   ]
  },
  {
   "attachments": {},
   "cell_type": "markdown",
   "metadata": {},
   "source": [
    "Simple Aggregated Trials"
   ]
  },
  {
   "cell_type": "code",
   "execution_count": 34,
   "metadata": {},
   "outputs": [
    {
     "name": "stdout",
     "output_type": "stream",
     "text": [
      "std delta    22.916526\n",
      "theta    19.832368\n",
      "alpha    11.437351\n",
      "beta      5.482795\n",
      "gamma     1.242564\n",
      "dtype: float64\n",
      "mean delta    18.779890\n",
      "theta    16.361651\n",
      "alpha     9.502904\n",
      "beta      4.597495\n",
      "gamma     0.964169\n",
      "dtype: float64\n"
     ]
    }
   ],
   "source": [
    "morning = pd.DataFrame.from_dict(dataAgg[\"morning\"])\n",
    "print(\"std\",morning.std(axis=1, numeric_only=True))\n",
    "print(\"mean\",morning.mean(axis=1, numeric_only=True))"
   ]
  },
  {
   "cell_type": "code",
   "execution_count": 35,
   "metadata": {},
   "outputs": [
    {
     "name": "stdout",
     "output_type": "stream",
     "text": [
      "std delta    31.165042\n",
      "theta    26.276161\n",
      "alpha    15.487839\n",
      "beta      8.203065\n",
      "gamma     1.834063\n",
      "dtype: float64\n",
      "mean delta    16.078762\n",
      "theta    13.635269\n",
      "alpha     8.131216\n",
      "beta      4.196028\n",
      "gamma     0.883580\n",
      "dtype: float64\n"
     ]
    }
   ],
   "source": [
    "evening = pd.DataFrame.from_dict(dataAgg[\"evening\"])\n",
    "print(\"std\",evening.std(axis=1, numeric_only=True))\n",
    "print(\"mean\",evening.mean(axis=1, numeric_only=True))"
   ]
  }
 ],
 "metadata": {
  "kernelspec": {
   "display_name": "Python 3",
   "language": "python",
   "name": "python3"
  },
  "language_info": {
   "name": "python",
   "version": "3.11.2"
  },
  "orig_nbformat": 4
 },
 "nbformat": 4,
 "nbformat_minor": 2
}
