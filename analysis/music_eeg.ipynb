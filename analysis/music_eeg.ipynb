{
 "cells": [
  {
   "cell_type": "code",
   "execution_count": 50,
   "metadata": {},
   "outputs": [],
   "source": [
    "# exploratory analysis\n",
    "\n",
    "# we want to see if there is a correlation between the music and the EEG data\n",
    "# baseline 10mins recording with no music & noise cancelling earphones\n",
    "# 10mins playing the song: Rolling 7s by Dirty Honey...\n",
    "# (worthnoting, the song is 3:30mins long, so it's played 3 times in a \n",
    "# row but we lost some samples due to network issues)\n",
    "import pandas as pd\n"
   ]
  },
  {
   "cell_type": "code",
   "execution_count": 110,
   "metadata": {},
   "outputs": [
    {
     "name": "stdout",
     "output_type": "stream",
     "text": [
      "{'Eyes Closed': ['1685033286', '1685033139'], 'Eyes Open': ['1685033809', '1684961614'], 'Working': ['1684961211'], '': ['1684960760']}\n"
     ]
    },
    {
     "data": {
      "text/plain": [
       "{'1684961211': {'focus': './music_data/05cd9ed8-fc5f-4627-93ed-56f53c77524e_neurosity_focus_1684961211.json',\n",
       "  'calm': './music_data/05cd9ed8-fc5f-4627-93ed-56f53c77524e_neurosity_calm_1684961211.json',\n",
       "  'signalQuality': './music_data/05cd9ed8-fc5f-4627-93ed-56f53c77524e_neurosity_signalQuality_1684961211.json',\n",
       "  'event': './music_data/05cd9ed8-fc5f-4627-93ed-56f53c77524e_fusion_event_1684961211.json',\n",
       "  'rawBrainwaves': './music_data/05cd9ed8-fc5f-4627-93ed-56f53c77524e_neurosity_rawBrainwaves_1684961211.json',\n",
       "  'powerByBand': './music_data/05cd9ed8-fc5f-4627-93ed-56f53c77524e_neurosity_powerByBand_1684961211.json'},\n",
       " '1685033809': {'event': './music_data/05cd9ed8-fc5f-4627-93ed-56f53c77524e_fusion_event_1685033809.json'},\n",
       " '1684961614': {'powerByBand': './music_data/05cd9ed8-fc5f-4627-93ed-56f53c77524e_neurosity_powerByBand_1684961614.json',\n",
       "  'rawBrainwaves': './music_data/05cd9ed8-fc5f-4627-93ed-56f53c77524e_neurosity_rawBrainwaves_1684961614.json',\n",
       "  'event': './music_data/05cd9ed8-fc5f-4627-93ed-56f53c77524e_fusion_event_1684961614.json',\n",
       "  'focus': './music_data/05cd9ed8-fc5f-4627-93ed-56f53c77524e_neurosity_focus_1684961614.json',\n",
       "  'signalQuality': './music_data/05cd9ed8-fc5f-4627-93ed-56f53c77524e_neurosity_signalQuality_1684961614.json',\n",
       "  'calm': './music_data/05cd9ed8-fc5f-4627-93ed-56f53c77524e_neurosity_calm_1684961614.json'}}"
      ]
     },
     "execution_count": 110,
     "metadata": {},
     "output_type": "execute_result"
    }
   ],
   "source": [
    "import os\n",
    "import json\n",
    "import re\n",
    "def rnOccur(arr,v,n):\n",
    "    for x in range(len(arr)-1,0,-1):\n",
    "        if arr[x] == v:\n",
    "            if n == 0: return x\n",
    "            n-=1\n",
    "    return -1\n",
    "\n",
    "class extractBundledEEG:\n",
    "    def __init__(self,fold):\n",
    "        self.categories = dict()\n",
    "        self.tagIdMap = dict()\n",
    "        files = next(os.walk(fold))\n",
    "        for f in files[2]:\n",
    "            if f[-5:] == \".json\":\n",
    "                id = f[f.rindex(\"_\")+1:-5]\n",
    "\n",
    "                if id not in self.tagIdMap: self.tagIdMap[id] = dict()\n",
    "                \n",
    "                type = f[rnOccur(f,\"_\",1)+1:f.rindex(\"_\")]\n",
    "                # print(type,id,f)\n",
    "\n",
    "                self.tagIdMap[id][type] = os.path.join(files[0],f)\n",
    "\n",
    "                if type == \"event\":\n",
    "                    with open(os.path.join(files[0],f),\"r\") as of:\n",
    "                        tagInfo = json.load(of)[\"event\"][\"description\"]\n",
    "                        if tagInfo not in self.categories: self.categories[tagInfo] = list()\n",
    "                        self.categories[tagInfo].append(id)\n",
    "\n",
    "    def prune(self):\n",
    "        rmId = list()\n",
    "        for x in self.tagIdMap:\n",
    "            for y in self.tagIdMap[x]:\n",
    "\n",
    "        \n",
    "\n",
    "    def extractById(self, id):\n",
    "        return self.tagIdMap[str(id)]\n",
    "    \n",
    "    def extractByTags(self, tag):\n",
    "        ret = dict()\n",
    "        for x in self.categories[str(tag)]:\n",
    "            ret[x] = self.tagIdMap[x]\n",
    "        return ret\n",
    "\n",
    "    def mergeTagsWithRegex(self,reg,newTag):\n",
    "        newCategory = list()\n",
    "        oldTags = list()\n",
    "        for tag in self.categories:\n",
    "            if re.search(reg,tag):\n",
    "                newCategory+= list(self.categories[tag])\n",
    "                oldTags.append(tag)\n",
    "        for tag in oldTags: del self.categories[tag]\n",
    "\n",
    "        self.categories[newTag] = newCategory\n",
    "\n",
    "    def mergeCategories(self,categories,newTag):\n",
    "        newCategory = list()\n",
    "        oldTags = list()\n",
    "        for tag in categories:\n",
    "                newCategory+= list(self.categories[tag])\n",
    "                oldTags.append(tag)\n",
    "        for tag in oldTags: del self.categories[tag]\n",
    "\n",
    "        self.categories[newTag] = newCategory\n",
    "\n",
    "\n",
    "files = extractBundledEEG(\"./music_data/\")\n",
    "files.prune()\n",
    "print(files.categories)\n",
    "files.mergeTagsWithRegex(\"[cC]lose\",\"Eyes Closed\")\n",
    "files.mergeCategories([\"Working\",\"Eyes Open\"],\"Eyes Open\")\n",
    "files.extractByTags(\"Eyes Open\")"
   ]
  },
  {
   "cell_type": "code",
   "execution_count": 68,
   "metadata": {},
   "outputs": [],
   "source": [
    "# generate summary of the signalQuality across channels\n",
    "def get_signal_quality_summary(signalQuality):\n",
    "    channel_good_percentage = {}\n",
    "\n",
    "    for col in signalQuality:\n",
    "        if col in ['CP3_status', 'C3_status', 'F5_status', 'PO3_status', 'PO4_status', 'F6_status', 'C4_status', 'CP4_status']:\n",
    "            channel_states = signalQuality[col].value_counts()\n",
    "            \n",
    "            no_of_okay_samples = 0\n",
    "\n",
    "            if 'good' in channel_states:\n",
    "                no_of_okay_samples += channel_states['good']\n",
    "            if 'great' in channel_states:\n",
    "                no_of_okay_samples += channel_states['great']\n",
    "\n",
    "            percentage_good = no_of_okay_samples / len(signalQuality[col])\n",
    "\n",
    "            col_name_split = col.split('_')\n",
    "\n",
    "            channel_good_percentage[col_name_split[0]] = percentage_good\n",
    "\n",
    "    # this helps us know what channels to discard in our analysis\n",
    "    return channel_good_percentage"
   ]
  },
  {
   "cell_type": "code",
   "execution_count": 53,
   "metadata": {},
   "outputs": [],
   "source": [
    "def get_rolling_powerByBand(powerByBand, signalQuality, window_size=5):\n",
    "    # we want to split the recording for a session in to 5sec chunks average\n",
    "    # see if there's any difference in the average. \n",
    "\n",
    "    # we will discard any channels that have less than 70% good samples\n",
    "    channel_good_percentage = get_signal_quality_summary(signalQuality)\n",
    "\n",
    "    # we will discard any channels that have less than 70% good samples\n",
    "    for entry in channel_good_percentage:\n",
    "        if channel_good_percentage[entry] < 0.7:\n",
    "            del powerByBand[entry + '_alpha']\n",
    "            del powerByBand[entry + '_beta']\n",
    "            del powerByBand[entry + '_delta']\n",
    "            del powerByBand[entry + '_gamma']\n",
    "            del powerByBand[entry + '_theta']\n",
    "\n",
    "    # we will split the recording in to 5sec chunks\n",
    "    powerByBand_rolling = powerByBand.median() #.rolling(window=window_size).mean()\n",
    "\n",
    "    # we will discard the first 5sec of the recording\n",
    "    # powerByBand_rolling = powerByBand_rolling[window_size:]\n",
    "\n",
    "    return powerByBand_rolling\n"
   ]
  },
  {
   "cell_type": "code",
   "execution_count": 104,
   "metadata": {},
   "outputs": [
    {
     "data": {
      "text/plain": [
       "unixTimestamp    1.685033e+09\n",
       "C3_alpha         9.726708e-01\n",
       "C3_beta          6.378890e-01\n",
       "C3_delta         9.784840e-01\n",
       "C3_gamma         1.329261e-01\n",
       "C3_theta         1.112356e+00\n",
       "F5_alpha         1.404854e+00\n",
       "F5_beta          9.811228e-01\n",
       "F5_delta         2.257740e+00\n",
       "F5_gamma         3.454551e-01\n",
       "F5_theta         2.251866e+00\n",
       "PO3_alpha        1.236032e+00\n",
       "PO3_beta         8.302662e-01\n",
       "PO3_delta        1.270811e+00\n",
       "PO3_gamma        2.271144e-01\n",
       "PO3_theta        1.372553e+00\n",
       "PO4_alpha        1.357845e+00\n",
       "PO4_beta         8.461606e-01\n",
       "PO4_delta        1.425307e+00\n",
       "PO4_gamma        2.178966e-01\n",
       "PO4_theta        1.430537e+00\n",
       "F6_alpha         2.171508e+00\n",
       "F6_beta          1.140453e+00\n",
       "F6_delta         2.458844e+00\n",
       "F6_gamma         2.704768e-01\n",
       "F6_theta         2.463425e+00\n",
       "C4_alpha         1.149412e+00\n",
       "C4_beta          6.977129e-01\n",
       "C4_delta         1.216069e+00\n",
       "C4_gamma         1.533435e-01\n",
       "C4_theta         1.393389e+00\n",
       "CP4_alpha        1.566630e+00\n",
       "CP4_beta         9.887354e-01\n",
       "CP4_delta        1.694478e+00\n",
       "CP4_gamma        2.802765e-01\n",
       "CP4_theta        1.713134e+00\n",
       "dtype: float64"
      ]
     },
     "execution_count": 104,
     "metadata": {},
     "output_type": "execute_result"
    }
   ],
   "source": [
    "# load the data\n",
    "powerByBand_eyesclosed = pd.read_json('/Users/oreogundipe/lab/fusion/analysis/music_data/eyes_closed/2db533ce-8349-427f-9cdd-a4a7f6b62266_neurosity_powerByBand_1682192967.json')\n",
    "signalQuality_eyesclosed = pd.read_json('/Users/oreogundipe/lab/fusion/analysis/music_data/eyes_closed/2db533ce-8349-427f-9cdd-a4a7f6b62266_neurosity_signalQuality_1682192967.json')\n",
    "\n",
    "powerByBand_rolling_eyesclosed = get_rolling_powerByBand(powerByBand_eyesclosed, signalQuality_eyesclosed)\n",
    "powerByBand_rolling_eyesclosed"
   ]
  },
  {
   "cell_type": "code",
   "execution_count": 102,
   "metadata": {},
   "outputs": [
    {
     "name": "stdout",
     "output_type": "stream",
     "text": [
      "{'event': './music_data/05cd9ed8-fc5f-4627-93ed-56f53c77524e_fusion_event_1685033286.json', 'signalQuality': './music_data/05cd9ed8-fc5f-4627-93ed-56f53c77524e_neurosity_signalQuality_1685033286.json', 'calm': './music_data/05cd9ed8-fc5f-4627-93ed-56f53c77524e_neurosity_calm_1685033286.json', 'focus': './music_data/05cd9ed8-fc5f-4627-93ed-56f53c77524e_neurosity_focus_1685033286.json', 'powerByBand': './music_data/05cd9ed8-fc5f-4627-93ed-56f53c77524e_neurosity_powerByBand_1685033286.json', 'rawBrainwaves': './music_data/05cd9ed8-fc5f-4627-93ed-56f53c77524e_neurosity_rawBrainwaves_1685033286.json'}\n"
     ]
    },
    {
     "data": {
      "text/plain": [
       "unixTimestamp    1.685033e+09\n",
       "C3_alpha         9.726708e-01\n",
       "C3_beta          6.378890e-01\n",
       "C3_delta         9.784840e-01\n",
       "C3_gamma         1.329261e-01\n",
       "C3_theta         1.112356e+00\n",
       "F5_alpha         1.404854e+00\n",
       "F5_beta          9.811228e-01\n",
       "F5_delta         2.257740e+00\n",
       "F5_gamma         3.454551e-01\n",
       "F5_theta         2.251866e+00\n",
       "PO3_alpha        1.236032e+00\n",
       "PO3_beta         8.302662e-01\n",
       "PO3_delta        1.270811e+00\n",
       "PO3_gamma        2.271144e-01\n",
       "PO3_theta        1.372553e+00\n",
       "PO4_alpha        1.357845e+00\n",
       "PO4_beta         8.461606e-01\n",
       "PO4_delta        1.425307e+00\n",
       "PO4_gamma        2.178966e-01\n",
       "PO4_theta        1.430537e+00\n",
       "F6_alpha         2.171508e+00\n",
       "F6_beta          1.140453e+00\n",
       "F6_delta         2.458844e+00\n",
       "F6_gamma         2.704768e-01\n",
       "F6_theta         2.463425e+00\n",
       "C4_alpha         1.149412e+00\n",
       "C4_beta          6.977129e-01\n",
       "C4_delta         1.216069e+00\n",
       "C4_gamma         1.533435e-01\n",
       "C4_theta         1.393389e+00\n",
       "CP4_alpha        1.566630e+00\n",
       "CP4_beta         9.887354e-01\n",
       "CP4_delta        1.694478e+00\n",
       "CP4_gamma        2.802765e-01\n",
       "CP4_theta        1.713134e+00\n",
       "dtype: float64"
      ]
     },
     "execution_count": 102,
     "metadata": {},
     "output_type": "execute_result"
    }
   ],
   "source": [
    "\n",
    "# load the data\n",
    "powerByBand_music = pd.read_json('/Users/oreogundipe/lab/fusion/analysis/music_data/track/2db533ce-8349-427f-9cdd-a4a7f6b62266_neurosity_powerByBand_1682194159.json')\n",
    "signalQuality_music = pd.read_json('/Users/oreogundipe/lab/fusion/analysis/music_data/track/2db533ce-8349-427f-9cdd-a4a7f6b62266_neurosity_signalQuality_1682194159.json')\n",
    "\n",
    "powerByBand_rolling_music = get_rolling_powerByBand(powerByBand_music, signalQuality_music)\n",
    "powerByBand_rolling_music"
   ]
  },
  {
   "cell_type": "code",
   "execution_count": 7,
   "metadata": {},
   "outputs": [],
   "source": [
    "# plot manually \n",
    "\n",
    "import matplotlib.pyplot as plt\n",
    "import numpy as np\n",
    "\n",
    "def plot_powerdiff_by_channel():\n",
    "    channels = [\"C3\", \"CP4\", \"PO3\", \"PO4\"]\n",
    "    groups = ['delta', 'theta', 'alpha', 'beta', 'gamma']\n",
    "    for channel in channels:\n",
    "        eyesclosed_power = [powerByBand_rolling_eyesclosed[f\"{channel}_{band}\"] for band in groups]\n",
    "        eyesclosed_music_power = [powerByBand_rolling_music[f\"{channel}_{band}\"] for band in groups]\n",
    "        # eyesopen_power = [powerByBand_eyes_open[f\"{channel}_{band}\"] for band in groups]\n",
    "\n",
    "        barWidth = 0.25\n",
    "\n",
    "        # Set position of bar on X axis\n",
    "        br1 = np.arange(len(groups))\n",
    "        br2 = [x + barWidth for x in br1]\n",
    "        br3 = [x + barWidth for x in br2]\n",
    "        # Y - power\n",
    "        plt.bar(groups, eyesclosed_power, width = barWidth, label='eyes closed')\n",
    "        plt.bar(br2, eyesclosed_music_power, width = barWidth, label='music')\n",
    "        # plt.bar(br3, eyesopen_power, width = barWidth, label='eyes open')\n",
    "\n",
    "        print(eyesclosed_power)\n",
    "        print(eyesclosed_music_power)\n",
    "        # print(eyesopen_power)\n",
    "\n",
    "        plt.xlabel('Frequency Band')\n",
    "        plt.ylabel('Power')\n",
    "        plt.legend()\n",
    "        plt.title(f'Power for channel {channel}')\n",
    "        plt.show()\n",
    "        plt.close()\n",
    "        "
   ]
  },
  {
   "cell_type": "code",
   "execution_count": 8,
   "metadata": {},
   "outputs": [
    {
     "name": "stdout",
     "output_type": "stream",
     "text": [
      "[1.730885041193352, 1.757932640116713, 2.256969788932455, 0.97012851773798, 0.18454441675930103]\n",
      "[1.4667911647806031, 1.501871446768306, 1.882588913158188, 1.115385641664427, 0.24762488412788702]\n"
     ]
    },
    {
     "data": {
      "image/png": "[encoded data removed]",
      "text/plain": [
       "<Figure size 432x288 with 1 Axes>"
      ]
     },
     "metadata": {
      "needs_background": "light"
     },
     "output_type": "display_data"
    },
    {
     "name": "stdout",
     "output_type": "stream",
     "text": [
      "[1.788619365443331, 1.915146321956124, 3.370085979556899, 1.161628742813031, 0.208729153374612]\n",
      "[1.772225762775295, 1.9115293900367751, 2.677926886208256, 1.225747641007499, 0.24336309902285103]\n"
     ]
    },
    {
     "data": {
      "image/png": "[encoded data removed]",
      "text/plain": [
       "<Figure size 432x288 with 1 Axes>"
      ]
     },
     "metadata": {
      "needs_background": "light"
     },
     "output_type": "display_data"
    },
    {
     "name": "stdout",
     "output_type": "stream",
     "text": [
      "[2.661011640344724, 2.774972988835707, 3.8898869781953813, 1.5841217766367621, 0.297631257465303]\n",
      "[2.3223302047857333, 2.451096898465795, 3.176491962139265, 1.5180792597981991, 0.312115557259497]\n"
     ]
    },
    {
     "data": {
      "image/png": "[encoded data removed]",
      "text/plain": [
       "<Figure size 432x288 with 1 Axes>"
      ]
     },
     "metadata": {
      "needs_background": "light"
     },
     "output_type": "display_data"
    },
    {
     "name": "stdout",
     "output_type": "stream",
     "text": [
      "[2.191289912791353, 2.334850837881099, 4.570265356703982, 1.319195226279432, 0.240114773721592]\n",
      "[1.974751559055984, 2.104459690606194, 3.6293929343616798, 1.30664165524878, 0.258072348999317]\n"
     ]
    },
    {
     "data": {
      "image/png": "[encoded data removed]",
      "text/plain": [
       "<Figure size 432x288 with 1 Axes>"
      ]
     },
     "metadata": {
      "needs_background": "light"
     },
     "output_type": "display_data"
    }
   ],
   "source": [
    "plot_powerdiff_by_channel()"
   ]
  },
  {
   "cell_type": "code",
   "execution_count": 9,
   "metadata": {},
   "outputs": [],
   "source": [
    "# reduced alpha & increased gamma compared to eyes closed when music was introduced."
   ]
  },
  {
   "cell_type": "code",
   "execution_count": 10,
   "metadata": {},
   "outputs": [],
   "source": [
    "# plot power diff by band\n",
    "def plot_powerdiff_by_band():\n",
    "    channels = [\"C3\", \"CP4\", \"PO3\", \"PO4\"]\n",
    "    groups = ['delta', 'theta', 'alpha', 'beta', 'gamma']\n",
    "    for band in groups:\n",
    "        eyesclosed_power = [powerByBand_rolling_eyesclosed[f\"{channel}_{band}\"] for channel in channels]\n",
    "        eyesclosed_music_power = [powerByBand_rolling_music[f\"{channel}_{band}\"] for channel in channels]\n",
    "\n",
    "        barWidth = 0.25\n",
    "\n",
    "        # Set position of bar on X axis\n",
    "        br1 = np.arange(len(channels))\n",
    "        br2 = [x + barWidth for x in br1]\n",
    "        # Y - power\n",
    "        plt.bar(channels, eyesclosed_power, width = barWidth, label='eyes closed')\n",
    "        plt.bar(br2, eyesclosed_music_power, width = barWidth, label='music')\n",
    "\n",
    "        print(eyesclosed_power)\n",
    "        print(eyesclosed_music_power)\n",
    "\n",
    "        plt.xlabel('Channel')\n",
    "        plt.ylabel('Power')\n",
    "        plt.legend()\n",
    "        plt.title(f'Power for band {band}')\n",
    "        plt.show()\n",
    "        plt.close()"
   ]
  },
  {
   "cell_type": "code",
   "execution_count": 11,
   "metadata": {},
   "outputs": [
    {
     "name": "stdout",
     "output_type": "stream",
     "text": [
      "[1.730885041193352, 1.788619365443331, 2.661011640344724, 2.191289912791353]\n",
      "[1.4667911647806031, 1.772225762775295, 2.3223302047857333, 1.974751559055984]\n"
     ]
    },
    {
     "data": {
      "image/png": "[encoded data removed]",
      "text/plain": [
       "<Figure size 432x288 with 1 Axes>"
      ]
     },
     "metadata": {
      "needs_background": "light"
     },
     "output_type": "display_data"
    },
    {
     "name": "stdout",
     "output_type": "stream",
     "text": [
      "[1.757932640116713, 1.915146321956124, 2.774972988835707, 2.334850837881099]\n",
      "[1.501871446768306, 1.9115293900367751, 2.451096898465795, 2.104459690606194]\n"
     ]
    },
    {
     "data": {
      "image/png": "[encoded data removed]",
      "text/plain": [
       "<Figure size 432x288 with 1 Axes>"
      ]
     },
     "metadata": {
      "needs_background": "light"
     },
     "output_type": "display_data"
    },
    {
     "name": "stdout",
     "output_type": "stream",
     "text": [
      "[2.256969788932455, 3.370085979556899, 3.8898869781953813, 4.570265356703982]\n",
      "[1.882588913158188, 2.677926886208256, 3.176491962139265, 3.6293929343616798]\n"
     ]
    },
    {
     "data": {
      "image/png": "[encoded data removed]",
      "text/plain": [
       "<Figure size 432x288 with 1 Axes>"
      ]
     },
     "metadata": {
      "needs_background": "light"
     },
     "output_type": "display_data"
    },
    {
     "name": "stdout",
     "output_type": "stream",
     "text": [
      "[0.97012851773798, 1.161628742813031, 1.5841217766367621, 1.319195226279432]\n",
      "[1.115385641664427, 1.225747641007499, 1.5180792597981991, 1.30664165524878]\n"
     ]
    },
    {
     "data": {
      "image/png": "[encoded data removed]",
      "text/plain": [
       "<Figure size 432x288 with 1 Axes>"
      ]
     },
     "metadata": {
      "needs_background": "light"
     },
     "output_type": "display_data"
    },
    {
     "name": "stdout",
     "output_type": "stream",
     "text": [
      "[0.18454441675930103, 0.208729153374612, 0.297631257465303, 0.240114773721592]\n",
      "[0.24762488412788702, 0.24336309902285103, 0.312115557259497, 0.258072348999317]\n"
     ]
    },
    {
     "data": {
      "image/png": "[encoded data removed]",
      "text/plain": [
       "<Figure size 432x288 with 1 Axes>"
      ]
     },
     "metadata": {
      "needs_background": "light"
     },
     "output_type": "display_data"
    }
   ],
   "source": [
    "plot_powerdiff_by_band()"
   ]
  },
  {
   "cell_type": "code",
   "execution_count": 70,
   "metadata": {},
   "outputs": [
    {
     "data": {
      "text/plain": [
       "unixTimestamp    1.682194e+09\n",
       "C3_alpha         1.882589e+00\n",
       "C3_beta          1.115386e+00\n",
       "C3_delta         1.466791e+00\n",
       "C3_gamma         2.476249e-01\n",
       "C3_theta         1.501871e+00\n",
       "PO3_alpha        3.176492e+00\n",
       "PO3_beta         1.518079e+00\n",
       "PO3_delta        2.322330e+00\n",
       "PO3_gamma        3.121156e-01\n",
       "PO3_theta        2.451097e+00\n",
       "PO4_alpha        3.629393e+00\n",
       "PO4_beta         1.306642e+00\n",
       "PO4_delta        1.974752e+00\n",
       "PO4_gamma        2.580723e-01\n",
       "PO4_theta        2.104460e+00\n",
       "CP4_alpha        2.677927e+00\n",
       "CP4_beta         1.225748e+00\n",
       "CP4_delta        1.772226e+00\n",
       "CP4_gamma        2.433631e-01\n",
       "CP4_theta        1.911529e+00\n",
       "dtype: float64"
      ]
     },
     "execution_count": 70,
     "metadata": {},
     "output_type": "execute_result"
    }
   ],
   "source": [
    "powerByBand_rolling_music"
   ]
  },
  {
   "cell_type": "code",
   "execution_count": 58,
   "metadata": {},
   "outputs": [],
   "source": [
    "# alpha\n"
   ]
  },
  {
   "cell_type": "code",
   "execution_count": 88,
   "metadata": {},
   "outputs": [
    {
     "data": {
      "image/png": "[encoded data removed]",
      "text/plain": [
       "<Figure size 216x216 with 1 Axes>"
      ]
     },
     "metadata": {},
     "output_type": "display_data"
    },
    {
     "data": {
      "text/plain": [
       "(<matplotlib.image.AxesImage at 0x17fe58130>,\n",
       " <matplotlib.contour.QuadContourSet at 0x17fe58490>)"
      ]
     },
     "execution_count": 88,
     "metadata": {},
     "output_type": "execute_result"
    }
   ],
   "source": [
    "# plot top map\n",
    "\n",
    "import numpy as np\n",
    "import matplotlib.pyplot as plt\n",
    "import mne\n",
    "\n",
    "power_dict = {\n",
    "    'C3': powerByBand_rolling_music['C3_beta'],\n",
    "    'PO3': powerByBand_rolling_music['PO3_beta'],\n",
    "    'PO4': powerByBand_rolling_music['PO4_beta'],\n",
    "    'CP4': powerByBand_rolling_music['CP4_beta'],\n",
    "}\n",
    "\n",
    "# Define the channel names for the 10-10 EEG system\n",
    "ch_names = list(power_dict.keys())\n",
    "powers = np.array(list(power_dict.values()))\n",
    "\n",
    "# Create an info object for the 10-10 EEG system\n",
    "info = mne.create_info(ch_names=ch_names, sfreq=256, ch_types='eeg', verbose=True)\n",
    "# Create the montage\n",
    "montage = mne.channels.make_standard_montage('standard_1005')\n",
    "info.set_montage(montage)\n",
    "\n",
    "# Plot the topomap\n",
    "mne.viz.plot_topomap(powers, info, ch_type='eeg', vlim=(0,5), names=power_dict.keys(), size=3, show=True)"
   ]
  }
 ],
 "metadata": {
  "kernelspec": {
   "display_name": "fusion",
   "language": "python",
   "name": "python3"
  },
  "language_info": {
   "codemirror_mode": {
    "name": "ipython",
    "version": 3
   },
   "file_extension": ".py",
   "mimetype": "text/x-python",
   "name": "python",
   "nbconvert_exporter": "python",
   "pygments_lexer": "ipython3",
   "version": "3.11.2"
  },
  "orig_nbformat": 4
 },
 "nbformat": 4,
 "nbformat_minor": 2
}
