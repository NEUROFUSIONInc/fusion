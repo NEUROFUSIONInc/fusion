{
 "cells": [
  {
   "cell_type": "code",
   "execution_count": 35,
   "metadata": {},
   "outputs": [],
   "source": [
    "import re\n",
    "\n",
    "def extract_info(text):\n",
    "    # The pattern for 10-digit numbers\n",
    "    pattern = r\"\\b\\d{10}\\b\"\n",
    "    # Extract 10-digit numbers from the text\n",
    "    numbers = re.findall(pattern, text)\n",
    "    # The rest of the string\n",
    "    rest = re.sub(pattern, \"\", text)\n",
    "    return numbers, rest\n",
    "    \n",
    "def extract_events_from_file(file_path):\n",
    "    \"\"\"\n",
    "\n",
    "    \"\"\"\n",
    "    fusion_events = {}\n",
    "    with open(file_path, 'r') as file:\n",
    "        for line in file:\n",
    "            # get out the timestamp, make the rest the \"event.name\"\n",
    "            timestamps, description = extract_info(line)\n",
    "            description = description.strip(\"-\")\n",
    "\n",
    "            if( len(timestamps) > 0 ):\n",
    "                # this is assuming the timestamp is a key for the events\n",
    "                fusion_events[int(timestamps[0])] = {\n",
    "                    \"startTimestamp\": timestamps[0],\n",
    "                    \"endTimestamp\": None,\n",
    "                    \"event\": {\n",
    "                        \"name\": description,\n",
    "                        \"description\": description,\n",
    "                        \"value\": None,\n",
    "                        \"source\": \"manual\"\n",
    "                    }\n",
    "                }\n",
    "                # fusion_events.append(fusion_event)\n",
    "    return fusion_events\n"
   ]
  },
  {
   "cell_type": "code",
   "execution_count": 37,
   "metadata": {},
   "outputs": [
    {
     "data": {
      "text/plain": [
       "{'startTimestamp': '1665425778',\n",
       " 'endTimestamp': None,\n",
       " 'event': {'name': '   - (ore) working on famasi at the time\\n',\n",
       "  'description': '   - (ore) working on famasi at the time\\n',\n",
       "  'value': None,\n",
       "  'source': 'manual'}}"
      ]
     },
     "execution_count": 37,
     "metadata": {},
     "output_type": "execute_result"
    }
   ],
   "source": [
    "lines = extract_events_from_file(\"/Users/oreogundipe/lab/fusion/analysis/events.txt\")\n",
    "\n",
    "lines[1665425778]"
   ]
  },
  {
   "cell_type": "code",
   "execution_count": 20,
   "metadata": {},
   "outputs": [
    {
     "data": {
      "text/plain": [
       "{'startTimestamp': '1674182759',\n",
       " 'endTimestamp': None,\n",
       " 'event': {'name': '  - free form, kinda lethergic, reading an article\\n',\n",
       "  'description': '  - free form, kinda lethergic, reading an article\\n',\n",
       "  'value': None,\n",
       "  'source': 'manual'}}"
      ]
     },
     "execution_count": 20,
     "metadata": {},
     "output_type": "execute_result"
    }
   ],
   "source": [
    "lines[100]"
   ]
  },
  {
   "cell_type": "code",
   "execution_count": 4,
   "metadata": {},
   "outputs": [
    {
     "name": "stdout",
     "output_type": "stream",
     "text": [
      "Numbers: ['1234567890']\n",
      "Rest of the string: The timestamp is  and the rest of the string is text.\n"
     ]
    }
   ],
   "source": [
    "import re\n",
    "\n",
    "def extract_info(text):\n",
    "    # The pattern for 10-digit numbers\n",
    "    pattern = r\"\\b\\d{10}\\b\"\n",
    "    # Extract 10-digit numbers from the text\n",
    "    numbers = re.findall(pattern, text)\n",
    "    # The rest of the string\n",
    "    rest = re.sub(pattern, \"\", text)\n",
    "    return numbers, rest\n",
    "\n",
    "# Example usage\n",
    "text = \"The timestamp is 1234567890 and the rest of the string is text.\"\n",
    "numbers, rest = extract_info(text)\n",
    "print(\"Numbers:\", numbers)\n",
    "print(\"Rest of the string:\", rest)\n"
   ]
  }
 ],
 "metadata": {
  "kernelspec": {
   "display_name": "fusion",
   "language": "python",
   "name": "python3"
  },
  "language_info": {
   "codemirror_mode": {
    "name": "ipython",
    "version": 3
   },
   "file_extension": ".py",
   "mimetype": "text/x-python",
   "name": "python",
   "nbconvert_exporter": "python",
   "pygments_lexer": "ipython3",
   "version": "3.8.11"
  },
  "orig_nbformat": 4,
  "vscode": {
   "interpreter": {
    "hash": "368637dcc81c36fd63b970b703f409442ca28c359ede6b93a8e308084e056199"
   }
  }
 },
 "nbformat": 4,
 "nbformat_minor": 2
}
